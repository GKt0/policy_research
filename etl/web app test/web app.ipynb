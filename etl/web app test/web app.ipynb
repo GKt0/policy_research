{
 "cells": [
  {
   "cell_type": "code",
   "execution_count": null,
   "id": "d62cd87c",
   "metadata": {},
   "outputs": [],
   "source": []
  },
  {
   "cell_type": "code",
   "execution_count": 3,
   "id": "ce33f02d",
   "metadata": {
    "scrolled": true
   },
   "outputs": [
    {
     "name": "stderr",
     "output_type": "stream",
     "text": [
      "Cloning into 'msdocs-python-flask-webapp-quickstart'...\n"
     ]
    }
   ],
   "source": [
    "!git clone https://github.com/Azure-Samples/msdocs-python-flask-webapp-quickstart"
   ]
  },
  {
   "cell_type": "code",
   "execution_count": 11,
   "id": "c899b4fc",
   "metadata": {},
   "outputs": [
    {
     "name": "stdout",
     "output_type": "stream",
     "text": [
      "C:\\Users\\gcatteau001\\dame\\web app test\\msdocs-python-flask-webapp-quickstart\n"
     ]
    }
   ],
   "source": [
    "cd msdocs-python-flask-webapp-quickstart"
   ]
  },
  {
   "cell_type": "code",
   "execution_count": 16,
   "id": "d5983cc5",
   "metadata": {},
   "outputs": [
    {
     "ename": "SyntaxError",
     "evalue": "unexpected character after line continuation character (2563411462.py, line 1)",
     "output_type": "error",
     "traceback": [
      "\u001b[1;36m  Cell \u001b[1;32mIn[16], line 1\u001b[1;36m\u001b[0m\n\u001b[1;33m    py -m venv .venv .venv\\scripts\\activate\u001b[0m\n\u001b[1;37m                           ^\u001b[0m\n\u001b[1;31mSyntaxError\u001b[0m\u001b[1;31m:\u001b[0m unexpected character after line continuation character\n"
     ]
    }
   ],
   "source": [
    "py -m venv .venv .venv\\scripts\\activate"
   ]
  },
  {
   "cell_type": "code",
   "execution_count": 12,
   "id": "b33dc7e4",
   "metadata": {
    "scrolled": true
   },
   "outputs": [
    {
     "name": "stdout",
     "output_type": "stream",
     "text": [
      "Collecting Flask==2.0.2\n",
      "  Downloading Flask-2.0.2-py3-none-any.whl (95 kB)\n",
      "     ---------------------------------------- 95.2/95.2 kB 1.3 MB/s eta 0:00:00\n",
      "Collecting itsdangerous>=2.0\n",
      "  Downloading itsdangerous-2.1.2-py3-none-any.whl (15 kB)\n",
      "Requirement already satisfied: Jinja2>=3.0 in c:\\users\\gcatteau001\\appdata\\local\\miniconda3\\lib\\site-packages (from Flask==2.0.2->-r requirements.txt (line 1)) (3.1.2)\n",
      "Collecting Werkzeug>=2.0\n",
      "  Downloading Werkzeug-2.2.3-py3-none-any.whl (233 kB)\n",
      "     -------------------------------------- 233.6/233.6 kB 3.5 MB/s eta 0:00:00\n",
      "Requirement already satisfied: click>=7.1.2 in c:\\users\\gcatteau001\\appdata\\local\\miniconda3\\lib\\site-packages (from Flask==2.0.2->-r requirements.txt (line 1)) (8.1.3)\n",
      "Requirement already satisfied: colorama in c:\\users\\gcatteau001\\appdata\\local\\miniconda3\\lib\\site-packages (from click>=7.1.2->Flask==2.0.2->-r requirements.txt (line 1)) (0.4.6)\n",
      "Requirement already satisfied: MarkupSafe>=2.0 in c:\\users\\gcatteau001\\appdata\\local\\miniconda3\\lib\\site-packages (from Jinja2>=3.0->Flask==2.0.2->-r requirements.txt (line 1)) (2.1.1)\n",
      "Installing collected packages: Werkzeug, itsdangerous, Flask\n",
      "Successfully installed Flask-2.0.2 Werkzeug-2.2.3 itsdangerous-2.1.2\n",
      "Note: you may need to restart the kernel to use updated packages.\n"
     ]
    }
   ],
   "source": [
    "pip install -r requirements.txt"
   ]
  },
  {
   "cell_type": "code",
   "execution_count": null,
   "id": "908605c3",
   "metadata": {},
   "outputs": [],
   "source": [
    "!flask run"
   ]
  }
 ],
 "metadata": {
  "kernelspec": {
   "display_name": "Python 3 (ipykernel)",
   "language": "python",
   "name": "python3"
  },
  "language_info": {
   "codemirror_mode": {
    "name": "ipython",
    "version": 3
   },
   "file_extension": ".py",
   "mimetype": "text/x-python",
   "name": "python",
   "nbconvert_exporter": "python",
   "pygments_lexer": "ipython3",
   "version": "3.10.9"
  }
 },
 "nbformat": 4,
 "nbformat_minor": 5
}
